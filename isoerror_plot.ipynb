{
 "cells": [
  {
   "cell_type": "code",
   "execution_count": 29,
   "metadata": {},
   "outputs": [],
   "source": [
    "results_file = '11_16-12_22-class_3_5_isoerror_results.np'"
   ]
  },
  {
   "cell_type": "code",
   "execution_count": 2,
   "metadata": {},
   "outputs": [],
   "source": [
    "#!sshpass -p 'password' scp rns365@prince.hpc.nyu.edu:/home/rns365/quality_quantity_tradeoff/{results_file} /Users/rubenstern/Desktop/"
   ]
  },
  {
   "cell_type": "code",
   "execution_count": 3,
   "metadata": {},
   "outputs": [],
   "source": [
    "import pickle\n",
    "import numpy as np\n",
    "import torch\n",
    "\n",
    "import plotly\n",
    "plotly.tools.set_credentials_file(username='rubenstern', api_key='tsHqUIBaeDLvOjJAiWMI')\n",
    "\n",
    "import plotly.plotly as py\n",
    "import plotly.graph_objs as go"
   ]
  },
  {
   "cell_type": "code",
   "execution_count": 4,
   "metadata": {},
   "outputs": [],
   "source": [
    "with open(results_file, 'rb') as fd:\n",
    "    data = pickle.load(fd)\n",
    "    \n",
    "data = np.array([[100*(1-result['quality']), result['quantity'], float(result['accuracy'])] for result in data])"
   ]
  },
  {
   "cell_type": "code",
   "execution_count": 5,
   "metadata": {},
   "outputs": [],
   "source": [
    "qualities = np.sort(np.unique(data[:,0]))\n",
    "quantities = np.sort(np.unique(data[:,1]))"
   ]
  },
  {
   "cell_type": "code",
   "execution_count": 6,
   "metadata": {},
   "outputs": [
    {
     "data": {
      "text/plain": [
       "array([ 60.,  65.,  70.,  75.,  80.,  85.,  90.,  95., 100.])"
      ]
     },
     "execution_count": 6,
     "metadata": {},
     "output_type": "execute_result"
    }
   ],
   "source": [
    "qualities"
   ]
  },
  {
   "cell_type": "code",
   "execution_count": 7,
   "metadata": {},
   "outputs": [
    {
     "data": {
      "text/plain": [
       "array([ 2000.,  3000.,  4000.,  5000.,  6000.,  7000.,  8000.,  9000.,\n",
       "       10000.])"
      ]
     },
     "execution_count": 7,
     "metadata": {},
     "output_type": "execute_result"
    }
   ],
   "source": [
    "quantities"
   ]
  },
  {
   "cell_type": "code",
   "execution_count": 8,
   "metadata": {},
   "outputs": [],
   "source": [
    "#data"
   ]
  },
  {
   "cell_type": "code",
   "execution_count": 9,
   "metadata": {},
   "outputs": [],
   "source": [
    "data[58,2] = (data[57,2]+data[59,2])/2"
   ]
  },
  {
   "cell_type": "code",
   "execution_count": 13,
   "metadata": {},
   "outputs": [],
   "source": [
    "def add_isocost_curves(iso_data, costs, error_rate, colors):\n",
    "    iso_data2 = iso_data.copy()\n",
    "    q_max = 10000\n",
    "    curves_1, curves_2 = [], []\n",
    "    for cost in costs:\n",
    "        quanti, quali = [], []\n",
    "        for i in range(3):\n",
    "            if cost/float(i+1) <= q_max:\n",
    "                quanti.append(cost/float(i+1))\n",
    "                quali.append(100 * (1 - error_rate**(i+1)))\n",
    "        curves_1.append([quanti, quali])\n",
    "        \n",
    "        quantis = np.arange(1,q_max)\n",
    "        qualis = get_qualities(cost, error_rate, quantis)\n",
    "        x = np.arange(int(cost / 2) + 1, min(cost, q_max-1)).astype(int)\n",
    "        curves_2.append([x, 100 * qualis[x]])\n",
    "        \n",
    "    for i in range(len(costs)):\n",
    "        iso_data2.append(go.Scatter(x=curves_1[i][0],\n",
    "                                    y=curves_1[i][1],\n",
    "                                    showlegend=False,\n",
    "                                    mode = 'markers',\n",
    "                                    marker = dict(size = 10, color = colors[i],\n",
    "                                                 line = dict(width = 2, color = 'rgb(0, 0, 0)') )))\n",
    "        iso_data2.append(go.Scatter(x=curves_2[i][0],\n",
    "                                    y=curves_2[i][1],\n",
    "                                    showlegend=False,\n",
    "                                    mode = 'lines',\n",
    "                                    line = dict(color = colors[i], width=2) ))\n",
    "    return iso_data2"
   ]
  },
  {
   "cell_type": "code",
   "execution_count": 14,
   "metadata": {},
   "outputs": [],
   "source": [
    "def get_qualities(cost_tot, error_rate, quantities):\n",
    "        return (1-error_rate)**2 + cost_tot * error_rate * (1-error_rate) / quantities\n",
    "\n",
    "def generate_isoerror_plot_with_isocost(data, costs, error_rate, colors):\n",
    "    acc_array = []\n",
    "    for q in qualities:\n",
    "        selected_quality = data[data[:,0]==q]\n",
    "        line_acc = selected_quality[selected_quality[:,1].argsort()][:,2]\n",
    "        acc_array.append(list(line_acc))\n",
    "    iso_data=[\n",
    "        go.Contour(\n",
    "            z=acc_array,\n",
    "            x=quantities,\n",
    "            y=qualities,\n",
    "            contours=dict(\n",
    "                coloring ='heatmap',\n",
    "                showlabels = True,\n",
    "                labelfont = dict(\n",
    "                    family = 'Raleway',\n",
    "                    size = 12,\n",
    "                    color = 'white',\n",
    "                )\n",
    "            )\n",
    "        )\n",
    "    ]\n",
    "    \n",
    "    iso_data = add_isocost_curves(iso_data, costs, error_rate, colors)\n",
    "    \n",
    "    return iso_data\n"
   ]
  },
  {
   "cell_type": "code",
   "execution_count": 16,
   "metadata": {},
   "outputs": [],
   "source": [
    "colors = ['rgba(152, 0 , 0, .8)', 'rgb(0, 0, 0)', 'rgb(255, 255, 255)']\n",
    "\n",
    "iso_data = generate_isoerror_plot_with_isocost(data, [6000,10000,15000], 0.15, colors)"
   ]
  },
  {
   "cell_type": "code",
   "execution_count": 18,
   "metadata": {},
   "outputs": [],
   "source": [
    "fig = py.iplot(iso_data)"
   ]
  },
  {
   "cell_type": "code",
   "execution_count": 32,
   "metadata": {},
   "outputs": [],
   "source": [
    "import plotly.io as pio\n",
    "class_list = [\"airplane\", \"automobile\", \"bird\", \"cat\", \"deer\", \"dog\", \"frog\", \"horse\", \"ship\", \"truck\"]\n",
    "\n",
    "def plot_save(results_file, iso_data, save_dir):\n",
    "    class1 = int(results_file.split('class_')[1].split('_')[0])\n",
    "    class1 = class_list[class1]\n",
    "    class2 = int(results_file.split('class_')[1].split('_')[1])\n",
    "    class2 = class_list[class2]\n",
    "    \n",
    "    layout=go.Layout(xaxis={'title':'quantity'}, yaxis={'title':'quality'})\n",
    "    f = go.Figure(iso_data, layout)\n",
    "    figure_file = os.path.join(save_dir, 'isocost_{}_{}.png'.format(class1, class2))\n",
    "    pio.write_image(f, figure_file)\n",
    "    \n",
    "       \n",
    "def generate_plot_save(results_file, save_dir=''):\n",
    "    iso_data = get_iso(results_file)\n",
    "    plot_save(results_file, iso_data, save_dir)"
   ]
  },
  {
   "cell_type": "code",
   "execution_count": 33,
   "metadata": {},
   "outputs": [
    {
     "data": {
      "text/plain": [
       "'11_16-12_22-class_3_5_isoerror_results.np'"
      ]
     },
     "execution_count": 33,
     "metadata": {},
     "output_type": "execute_result"
    }
   ],
   "source": [
    "results_file"
   ]
  },
  {
   "cell_type": "code",
   "execution_count": 34,
   "metadata": {},
   "outputs": [],
   "source": [
    "import os\n",
    "plot_save(results_file, iso_data, '')"
   ]
  },
  {
   "cell_type": "code",
   "execution_count": null,
   "metadata": {},
   "outputs": [],
   "source": []
  }
 ],
 "metadata": {
  "kernelspec": {
   "display_name": "Python 3",
   "language": "python",
   "name": "python3"
  },
  "language_info": {
   "codemirror_mode": {
    "name": "ipython",
    "version": 3
   },
   "file_extension": ".py",
   "mimetype": "text/x-python",
   "name": "python",
   "nbconvert_exporter": "python",
   "pygments_lexer": "ipython3",
   "version": "3.6.6"
  }
 },
 "nbformat": 4,
 "nbformat_minor": 2
}
