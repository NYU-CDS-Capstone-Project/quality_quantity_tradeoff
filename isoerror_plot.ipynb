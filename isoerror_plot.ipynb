{
 "cells": [
  {
   "cell_type": "code",
   "execution_count": 8,
   "metadata": {
    "collapsed": true
   },
   "outputs": [],
   "source": [
    "results_file = '11_16-12_22isoerror_results.np'"
   ]
  },
  {
   "cell_type": "code",
   "execution_count": 9,
   "metadata": {
    "collapsed": false
   },
   "outputs": [],
   "source": [
    "!sshpass -p 'password' scp rns365@prince.hpc.nyu.edu:/home/rns365/quality_quantity_tradeoff/{results_file} /Users/rubenstern/Desktop/"
   ]
  },
  {
   "cell_type": "code",
   "execution_count": 10,
   "metadata": {
    "collapsed": false
   },
   "outputs": [],
   "source": [
    "import pickle\n",
    "import numpy as np\n",
    "import torch\n",
    "\n",
    "import plotly\n",
    "plotly.tools.set_credentials_file(username='rubenstern', api_key='tsHqUIBaeDLvOjJAiWMI')\n",
    "\n",
    "import plotly.plotly as py\n",
    "import plotly.graph_objs as go"
   ]
  },
  {
   "cell_type": "code",
   "execution_count": 31,
   "metadata": {
    "collapsed": false
   },
   "outputs": [],
   "source": [
    "with open(results_file, 'rb') as fd:\n",
    "    data = pickle.load(fd)\n",
    "    \n",
    "data = np.array([[100*(1-result['quality']), result['quantity'], float(result['accuracy'])] for result in data])"
   ]
  },
  {
   "cell_type": "code",
   "execution_count": 32,
   "metadata": {
    "collapsed": false
   },
   "outputs": [],
   "source": [
    "qualities = np.sort(np.unique(data[:,0]))\n",
    "quantities = np.sort(np.unique(data[:,1]))"
   ]
  },
  {
   "cell_type": "code",
   "execution_count": 33,
   "metadata": {
    "collapsed": false
   },
   "outputs": [
    {
     "data": {
      "text/plain": [
       "array([  60.,   65.,   70.,   75.,   80.,   85.,   90.,   95.,  100.])"
      ]
     },
     "execution_count": 33,
     "metadata": {},
     "output_type": "execute_result"
    }
   ],
   "source": [
    "qualities"
   ]
  },
  {
   "cell_type": "code",
   "execution_count": 34,
   "metadata": {
    "collapsed": false
   },
   "outputs": [
    {
     "data": {
      "text/plain": [
       "array([  2000.,   3000.,   4000.,   5000.,   6000.,   7000.,   8000.,\n",
       "         9000.,  10000.])"
      ]
     },
     "execution_count": 34,
     "metadata": {},
     "output_type": "execute_result"
    }
   ],
   "source": [
    "quantities"
   ]
  },
  {
   "cell_type": "code",
   "execution_count": 35,
   "metadata": {
    "collapsed": false
   },
   "outputs": [
    {
     "data": {
      "text/plain": [
       "array([[  6.00000000e+01,   2.00000000e+03,   5.00000000e-01],\n",
       "       [  6.50000000e+01,   2.00000000e+03,   5.00000000e-01],\n",
       "       [  7.00000000e+01,   2.00000000e+03,   5.33999979e-01],\n",
       "       [  7.50000000e+01,   2.00000000e+03,   5.49000025e-01],\n",
       "       [  8.00000000e+01,   2.00000000e+03,   5.73499978e-01],\n",
       "       [  8.50000000e+01,   2.00000000e+03,   5.95499992e-01],\n",
       "       [  9.00000000e+01,   2.00000000e+03,   6.21999979e-01],\n",
       "       [  9.50000000e+01,   2.00000000e+03,   6.24499977e-01],\n",
       "       [  1.00000000e+02,   2.00000000e+03,   6.49500012e-01],\n",
       "       [  6.00000000e+01,   3.00000000e+03,   5.00000000e-01],\n",
       "       [  6.50000000e+01,   3.00000000e+03,   5.00000000e-01],\n",
       "       [  7.00000000e+01,   3.00000000e+03,   5.51999986e-01],\n",
       "       [  7.50000000e+01,   3.00000000e+03,   5.93500018e-01],\n",
       "       [  8.00000000e+01,   3.00000000e+03,   5.77499986e-01],\n",
       "       [  8.50000000e+01,   3.00000000e+03,   6.08500004e-01],\n",
       "       [  9.00000000e+01,   3.00000000e+03,   6.29000008e-01],\n",
       "       [  9.50000000e+01,   3.00000000e+03,   6.47000015e-01],\n",
       "       [  1.00000000e+02,   3.00000000e+03,   6.46000028e-01],\n",
       "       [  6.00000000e+01,   4.00000000e+03,   5.00000000e-01],\n",
       "       [  6.50000000e+01,   4.00000000e+03,   5.49000025e-01],\n",
       "       [  7.00000000e+01,   4.00000000e+03,   5.00000000e-01],\n",
       "       [  7.50000000e+01,   4.00000000e+03,   5.94500005e-01],\n",
       "       [  8.00000000e+01,   4.00000000e+03,   6.17999971e-01],\n",
       "       [  8.50000000e+01,   4.00000000e+03,   6.62500024e-01],\n",
       "       [  9.00000000e+01,   4.00000000e+03,   6.48500025e-01],\n",
       "       [  9.50000000e+01,   4.00000000e+03,   6.81999981e-01],\n",
       "       [  1.00000000e+02,   4.00000000e+03,   6.66999996e-01],\n",
       "       [  6.00000000e+01,   5.00000000e+03,   5.00000000e-01],\n",
       "       [  6.50000000e+01,   5.00000000e+03,   5.00000000e-01],\n",
       "       [  7.00000000e+01,   5.00000000e+03,   5.77499986e-01],\n",
       "       [  7.50000000e+01,   5.00000000e+03,   5.90499997e-01],\n",
       "       [  8.00000000e+01,   5.00000000e+03,   6.38499975e-01],\n",
       "       [  8.50000000e+01,   5.00000000e+03,   6.52499974e-01],\n",
       "       [  9.00000000e+01,   5.00000000e+03,   6.65000021e-01],\n",
       "       [  9.50000000e+01,   5.00000000e+03,   6.82500005e-01],\n",
       "       [  1.00000000e+02,   5.00000000e+03,   6.83000028e-01],\n",
       "       [  6.00000000e+01,   6.00000000e+03,   5.00000000e-01],\n",
       "       [  6.50000000e+01,   6.00000000e+03,   5.00000000e-01],\n",
       "       [  7.00000000e+01,   6.00000000e+03,   5.00000000e-01],\n",
       "       [  7.50000000e+01,   6.00000000e+03,   5.65999985e-01],\n",
       "       [  8.00000000e+01,   6.00000000e+03,   6.38499975e-01],\n",
       "       [  8.50000000e+01,   6.00000000e+03,   6.54999971e-01],\n",
       "       [  9.00000000e+01,   6.00000000e+03,   6.75000012e-01],\n",
       "       [  9.50000000e+01,   6.00000000e+03,   6.71999991e-01],\n",
       "       [  1.00000000e+02,   6.00000000e+03,   7.08500028e-01],\n",
       "       [  6.00000000e+01,   7.00000000e+03,   5.00000000e-01],\n",
       "       [  6.50000000e+01,   7.00000000e+03,   5.00000000e-01],\n",
       "       [  7.00000000e+01,   7.00000000e+03,   5.82499981e-01],\n",
       "       [  7.50000000e+01,   7.00000000e+03,   6.42499983e-01],\n",
       "       [  8.00000000e+01,   7.00000000e+03,   6.56499982e-01],\n",
       "       [  8.50000000e+01,   7.00000000e+03,   6.50500000e-01],\n",
       "       [  9.00000000e+01,   7.00000000e+03,   6.76999986e-01],\n",
       "       [  9.50000000e+01,   7.00000000e+03,   7.16499984e-01],\n",
       "       [  1.00000000e+02,   7.00000000e+03,   7.09999979e-01],\n",
       "       [  6.00000000e+01,   8.00000000e+03,   5.00000000e-01],\n",
       "       [  6.50000000e+01,   8.00000000e+03,   5.00000000e-01],\n",
       "       [  7.00000000e+01,   8.00000000e+03,   5.00000000e-01],\n",
       "       [  7.50000000e+01,   8.00000000e+03,   6.26500010e-01],\n",
       "       [  8.00000000e+01,   8.00000000e+03,   5.00000000e-01],\n",
       "       [  8.50000000e+01,   8.00000000e+03,   6.49999976e-01],\n",
       "       [  9.00000000e+01,   8.00000000e+03,   6.81500018e-01],\n",
       "       [  9.50000000e+01,   8.00000000e+03,   6.97499990e-01],\n",
       "       [  1.00000000e+02,   8.00000000e+03,   7.14999974e-01],\n",
       "       [  6.00000000e+01,   9.00000000e+03,   5.00000000e-01],\n",
       "       [  6.50000000e+01,   9.00000000e+03,   5.78999996e-01],\n",
       "       [  7.00000000e+01,   9.00000000e+03,   5.99500000e-01],\n",
       "       [  7.50000000e+01,   9.00000000e+03,   6.19000018e-01],\n",
       "       [  8.00000000e+01,   9.00000000e+03,   6.58500016e-01],\n",
       "       [  8.50000000e+01,   9.00000000e+03,   6.66499972e-01],\n",
       "       [  9.00000000e+01,   9.00000000e+03,   7.03000009e-01],\n",
       "       [  9.50000000e+01,   9.00000000e+03,   6.92499995e-01],\n",
       "       [  1.00000000e+02,   9.00000000e+03,   7.15499997e-01],\n",
       "       [  6.00000000e+01,   1.00000000e+04,   5.00000000e-01],\n",
       "       [  6.50000000e+01,   1.00000000e+04,   5.00000000e-01],\n",
       "       [  7.00000000e+01,   1.00000000e+04,   5.83000004e-01],\n",
       "       [  7.50000000e+01,   1.00000000e+04,   6.49999976e-01],\n",
       "       [  8.00000000e+01,   1.00000000e+04,   6.76999986e-01],\n",
       "       [  8.50000000e+01,   1.00000000e+04,   6.78499997e-01],\n",
       "       [  9.00000000e+01,   1.00000000e+04,   7.02000022e-01],\n",
       "       [  9.50000000e+01,   1.00000000e+04,   7.13000000e-01],\n",
       "       [  1.00000000e+02,   1.00000000e+04,   7.32500017e-01]])"
      ]
     },
     "execution_count": 35,
     "metadata": {},
     "output_type": "execute_result"
    }
   ],
   "source": [
    "data"
   ]
  },
  {
   "cell_type": "code",
   "execution_count": 36,
   "metadata": {
    "collapsed": true
   },
   "outputs": [],
   "source": [
    "data[58,2] = (data[57,2]+data[59,2])/2"
   ]
  },
  {
   "cell_type": "code",
   "execution_count": 37,
   "metadata": {
    "collapsed": false
   },
   "outputs": [],
   "source": [
    "def generate_isoerror_plot(data):\n",
    "    acc_array = []\n",
    "    for q in qualities:\n",
    "        selected_quality = data[data[:,0]==q]\n",
    "        line_acc = selected_quality[selected_quality[:,1].argsort()][:,2]\n",
    "        acc_array.append(list(line_acc))\n",
    "    iso_data=[\n",
    "        go.Contour(\n",
    "            z=acc_array,\n",
    "            x=quantities,\n",
    "            y=qualities,\n",
    "            contours=dict(\n",
    "                coloring ='heatmap',\n",
    "                showlabels = True,\n",
    "                labelfont = dict(\n",
    "                    family = 'Raleway',\n",
    "                    size = 12,\n",
    "                    color = 'white',\n",
    "                )\n",
    "            )\n",
    "        )\n",
    "    ]\n",
    "    return iso_data\n"
   ]
  },
  {
   "cell_type": "code",
   "execution_count": 39,
   "metadata": {
    "collapsed": false
   },
   "outputs": [],
   "source": [
    "iso_data = generate_isoerror_plot(data)"
   ]
  },
  {
   "cell_type": "code",
   "execution_count": 40,
   "metadata": {
    "collapsed": false
   },
   "outputs": [
    {
     "data": {
      "text/html": [
       "<iframe id=\"igraph\" scrolling=\"no\" style=\"border:none;\" seamless=\"seamless\" src=\"https://plot.ly/~rubenstern/42.embed\" height=\"525px\" width=\"100%\"></iframe>"
      ],
      "text/plain": [
       "<plotly.tools.PlotlyDisplay object>"
      ]
     },
     "execution_count": 40,
     "metadata": {},
     "output_type": "execute_result"
    }
   ],
   "source": [
    "py.iplot(iso_data)"
   ]
  },
  {
   "cell_type": "code",
   "execution_count": null,
   "metadata": {
    "collapsed": true
   },
   "outputs": [],
   "source": []
  }
 ],
 "metadata": {
  "kernelspec": {
   "display_name": "Python 3",
   "language": "python",
   "name": "python3"
  },
  "language_info": {
   "codemirror_mode": {
    "name": "ipython",
    "version": 3
   },
   "file_extension": ".py",
   "mimetype": "text/x-python",
   "name": "python",
   "nbconvert_exporter": "python",
   "pygments_lexer": "ipython3",
   "version": "3.6.0"
  }
 },
 "nbformat": 4,
 "nbformat_minor": 2
}
